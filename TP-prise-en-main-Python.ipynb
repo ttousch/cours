{
 "cells": [
  {
   "cell_type": "markdown",
   "metadata": {},
   "source": [
    "<div align=\"center\" style=\"font-size:2em\"> <b>Prise en main du langage Python</b></div>"
   ]
  },
  {
   "cell_type": "markdown",
   "metadata": {},
   "source": [
    "# 1 Affichage\n",
    "## Affichage simple\n",
    "Exécuter la ligne de code suivante :"
   ]
  },
  {
   "cell_type": "code",
   "execution_count": null,
   "metadata": {},
   "outputs": [],
   "source": [
    "print(\"Bonjour !\")"
   ]
  },
  {
   "cell_type": "markdown",
   "metadata": {},
   "source": [
    "<br>\n",
    "De la même manière, écrire ci-dessous la ligne de code qui permettra d'afficher le message &laquo; Je suis élève au lycée de COULOMMIERS &raquo;."
   ]
  },
  {
   "cell_type": "code",
   "execution_count": null,
   "metadata": {},
   "outputs": [],
   "source": []
  },
  {
   "cell_type": "markdown",
   "metadata": {},
   "source": [
    "<br><br>\n",
    "## Affichage des nombres\n",
    "Exécuter le programme suivant :"
   ]
  },
  {
   "cell_type": "code",
   "execution_count": null,
   "metadata": {},
   "outputs": [],
   "source": [
    "print(2+3)\n",
    "print(\"2+3\")"
   ]
  },
  {
   "cell_type": "markdown",
   "metadata": {},
   "source": [
    "<br>\n",
    "De la même manière, afficher le résultat de l'opération 103257 + 1598."
   ]
  },
  {
   "cell_type": "code",
   "execution_count": null,
   "metadata": {},
   "outputs": [],
   "source": []
  },
  {
   "cell_type": "markdown",
   "metadata": {},
   "source": [
    "<br>\n",
    "Afficher cette fois-ci le texte suivant &laquo; 125+25=50 &raquo;."
   ]
  },
  {
   "cell_type": "code",
   "execution_count": null,
   "metadata": {},
   "outputs": [],
   "source": []
  },
  {
   "cell_type": "markdown",
   "metadata": {},
   "source": [
    "<br><br>\n",
    "## Concaténation\n",
    "Le terme concaténation désigne l'action de mettre bout à bout au moins deux chaînes de caractères.\n",
    "Exécuter le programme suivant :"
   ]
  },
  {
   "cell_type": "code",
   "execution_count": null,
   "metadata": {},
   "outputs": [],
   "source": [
    "print(\"Bonjour\",\"ça va ?\")\n",
    "print(\"Bonjour\"+\"ça va ?\")"
   ]
  },
  {
   "cell_type": "markdown",
   "metadata": {},
   "source": [
    "<br>\n",
    "Écrire le message  &laquo; Bonjour ça va ? &raquo; en concaténant lettre par lettre."
   ]
  },
  {
   "cell_type": "code",
   "execution_count": null,
   "metadata": {},
   "outputs": [],
   "source": []
  },
  {
   "cell_type": "markdown",
   "metadata": {},
   "source": [
    "<br><br>\n",
    "# 2 Calculs\n",
    "## Opérations\n",
    "\n",
    "Exécuter le programme suivant  :"
   ]
  },
  {
   "cell_type": "code",
   "execution_count": null,
   "metadata": {},
   "outputs": [],
   "source": [
    "print(1+1)\n",
    "print(5-2)\n",
    "print(2*3)\n",
    "print(7/2)\n",
    "print(7//2)\n",
    "print(7%2)\n",
    "print(3**2)"
   ]
  },
  {
   "cell_type": "markdown",
   "metadata": {},
   "source": [
    "<br>\n",
    "Compléter le tableau suivant :\n",
    "    \n",
    "|Opération                  |Opérateur|\n",
    "|:-:|:-:|\n",
    "|Addition                         | + |\n",
    "|Soustraction                     |   |\n",
    "|Multiplication                   |   |\n",
    "|Division                         |   |\n",
    "|Puissance                        |   |\n",
    "|Division euclidienne             |   |\n",
    "|Reste de la division euclidienne |   |\n"
   ]
  },
  {
   "cell_type": "markdown",
   "metadata": {},
   "source": [
    "<br><br>\n",
    "## Le module &laquo;math&raquo;\n",
    "Une bibliothèque est un ensemble de fonctions. Elles sont mises à disposition afin de pouvoir être utilisées sans avoir à les réécrire.\n",
    "Le module nommé &laquo;math&raquo; fournit toute une série de fonctions mathématiques.\n",
    "Exécuter le programme suivant afin de tester quelques exemples :"
   ]
  },
  {
   "cell_type": "code",
   "execution_count": null,
   "metadata": {},
   "outputs": [],
   "source": [
    "import math #importation de la bibliothèque\n",
    "print(\"math.ceil(25.3) =\", math.ceil(25.3))\n",
    "print(\"math.ceil(-25.3) =\", math.ceil(-25.3))\n",
    "print(\"math.floor(25.3) =\", math.floor(25.3))\n",
    "print(\"math.floor(-25.3) =\", math.floor(-25.3))\n",
    "print(\"math.trunc(25.3) =\", math.trunc(25.3))\n",
    "print(\"math.trunc(25.9) =\", math.trunc(25.9))\n",
    "print(\"math.trunc(-25.3) =\", math.trunc(-25.3))\n",
    "print(\"math.gcd(36,20) =\", math.gcd(36,20))\n",
    "print(\"math.fsum([1,4,9,10]) =\", math.fsum([1,4,9,10]))\n",
    "print(\"math.sqrt(16) =\", math.sqrt(16))\n",
    "print(\"math.pow(3,2) =\",math.pow(3,2))\n",
    "print(\"math.sin(0) =\", math.sin(0))\n",
    "print(\"math.cos(0) =\", math.cos(0))\n",
    "print(\"math.tan(0) =\", math.tan(0))\n",
    "print(\"math.pi =\", math.pi)"
   ]
  },
  {
   "cell_type": "markdown",
   "metadata": {},
   "source": [
    "<br>\n",
    "Compléter le tableau suivant :\n",
    "    \n",
    "|Fonction     |Résultat|\n",
    "|:-:|:-|\n",
    "|pow(x,y)     | x élevé à la puissance y |\n",
    "|             | racine carrée de x |\n",
    "|             | plus grand commun diviseur de x et y |\n",
    "|             | partie entière de x |\n",
    "|             | plus petit entier supérieur ou égal à x |\n",
    "|             | plus grand entier inférieur ou égal à x |\n",
    "|             | sinus de x en radian |\n",
    "|             | constante $\\pi$ |\n",
    "|             | cosinus de x en radian |\n",
    "|             | tangente de x en radian |\n",
    "|             | somme de a,b,c &hellip; |"
   ]
  },
  {
   "cell_type": "markdown",
   "metadata": {},
   "source": [
    "### Exemples :\n",
    "\n",
    "Taper le code permettant d'afficher le résultat des opérations suivantes :"
   ]
  },
  {
   "cell_type": "markdown",
   "metadata": {},
   "source": [
    "$4,\\!2+2,\\!3 \\times 5$"
   ]
  },
  {
   "cell_type": "code",
   "execution_count": null,
   "metadata": {},
   "outputs": [],
   "source": []
  },
  {
   "cell_type": "markdown",
   "metadata": {},
   "source": [
    "<br>\n",
    "$(4,\\!2+2,\\!3) \\times \\sqrt{5}$"
   ]
  },
  {
   "cell_type": "code",
   "execution_count": null,
   "metadata": {},
   "outputs": [],
   "source": []
  },
  {
   "cell_type": "markdown",
   "metadata": {},
   "source": [
    "<br>\n",
    "$\\dfrac{7,\\!5 + 4,\\!3}{4}$"
   ]
  },
  {
   "cell_type": "code",
   "execution_count": null,
   "metadata": {},
   "outputs": [],
   "source": []
  },
  {
   "cell_type": "markdown",
   "metadata": {},
   "source": [
    "<br>\n",
    "$\\dfrac{10^{-2}+\\sin{\\left( \\dfrac{\\pi}{4} \\right) }}{10^2 \\times \\sqrt{8}}$"
   ]
  },
  {
   "cell_type": "code",
   "execution_count": null,
   "metadata": {},
   "outputs": [],
   "source": []
  },
  {
   "cell_type": "markdown",
   "metadata": {},
   "source": [
    "<br>\n",
    "\n",
    "### Remarque 1 :\n",
    "Il y trois façons pour utiliser une fonction d'un module. En voici un exemple que vous pouvez exécuter :"
   ]
  },
  {
   "cell_type": "code",
   "execution_count": null,
   "metadata": {},
   "outputs": [],
   "source": [
    "#1ère façon\n",
    "import math\n",
    "print(math.sqrt(25))\n",
    "\n",
    "#2ème façon\n",
    "import math as m #on donne un alias  au module\n",
    "print(m.sqrt(25))\n",
    "\n",
    "#3ème façon\n",
    "from math import sqrt #on importe uniquement la fonction sqrt du module math\n",
    "print(sqrt(25))\n",
    "\n",
    "# on peut également importer toutes les fonctions du module\n",
    "from math import *\n",
    "print(cos(pi))\n",
    "print(trunc(5.7))"
   ]
  },
  {
   "cell_type": "markdown",
   "metadata": {},
   "source": [
    "Taper le programme permettant d'afficher une valeur apporchée du nombre d'or : $\\dfrac{1+\\sqrt{5}}{2}$."
   ]
  },
  {
   "cell_type": "code",
   "execution_count": null,
   "metadata": {},
   "outputs": [],
   "source": []
  },
  {
   "cell_type": "markdown",
   "metadata": {},
   "source": [
    "### Remarque 2 :\n",
    "Certaines fonctions natives sont disponibles (pas besoin de charger un module). Exécuter le programme suivant afin de tester quelques exemples :"
   ]
  },
  {
   "cell_type": "code",
   "execution_count": null,
   "metadata": {},
   "outputs": [],
   "source": [
    "print(min(-1,2,3,-7)) #retourne le minium\n",
    "print(max(-1,2,3,-7)) #retourne le maximum\n",
    "print(round(1.5275,1)) #arrondi au dixième\n",
    "print(round(1.5275,2)) #arrondi au centième\n",
    "print(round(1.5275,3)) #arrondi au millième"
   ]
  },
  {
   "cell_type": "markdown",
   "metadata": {},
   "source": [
    "Taper le programme permettant d'afficher la valeur du nombre d'or arrondie au centième."
   ]
  },
  {
   "cell_type": "code",
   "execution_count": null,
   "metadata": {},
   "outputs": [],
   "source": []
  },
  {
   "cell_type": "markdown",
   "metadata": {},
   "source": [
    "### Remarque 3 :\n",
    "Dans les exemples ci-dessus, on remarque que certaines fonctions renvoient un nombre entier et d'autres un nombre décimal. En Python on distingue donc deux types de nombres :\n",
    "- <b> int </b> qui sont des nombres entiers (integer) ;\n",
    "- <b> float </b> qui sont des nombres décimaux.\n",
    " \n",
    "La fonction native int() permet de transformer un nombre de type float en int.\n",
    " \n",
    "La fonction native float() permet de transformer un nombre de type int en float.\n",
    " \n",
    "Taper ci-dessous un petit programme permettant de tester ces fonctions."
   ]
  },
  {
   "cell_type": "code",
   "execution_count": null,
   "metadata": {},
   "outputs": [],
   "source": []
  },
  {
   "cell_type": "markdown",
   "metadata": {},
   "source": [
    "# 3 Variables"
   ]
  },
  {
   "cell_type": "markdown",
   "metadata": {},
   "source": [
    "Une variable est un code alphanumérique qui permet de stocker une donnée dans la mémoire de l'ordinateur.\n",
    "Pour affecter une valeur à une variable, on utilise le signe égal.\n",
    "Dans l'exemple ci-dessous, on affecte à la variable :\n",
    "<ul>\n",
    "    <li> <b> numero </b> le numéro de la maison ; </li>\n",
    "    <li> <b> voie </b> le nom de la voie ; </li>\n",
    "    <li> <b> code_postal </b> le code postal ; </li>\n",
    "    <li> <b> ville </b> le nom de la ville ; </li>\n",
    "</ul>"
   ]
  },
  {
   "cell_type": "code",
   "execution_count": null,
   "metadata": {},
   "outputs": [],
   "source": [
    "numero=45\n",
    "voie=\"avenue des Champs Élysées\"\n",
    "code_postal=75008\n",
    "ville=\"Paris\""
   ]
  },
  {
   "cell_type": "markdown",
   "metadata": {},
   "source": [
    "<br>\n",
    "Si on souhaite afficher la voie, il suffit de taper :"
   ]
  },
  {
   "cell_type": "code",
   "execution_count": null,
   "metadata": {},
   "outputs": [],
   "source": [
    "print(voie)"
   ]
  },
  {
   "cell_type": "markdown",
   "metadata": {},
   "source": [
    "<br>\n",
    "De la même manière, taper la ligne de code permettant d'afficher le code postal suivi du nom de la ville."
   ]
  },
  {
   "cell_type": "code",
   "execution_count": null,
   "metadata": {},
   "outputs": [],
   "source": []
  },
  {
   "cell_type": "markdown",
   "metadata": {},
   "source": [
    "<br><br>\n",
    "\n",
    "### Remarque 1 :\n",
    "Les variable numero et code_postal sont des nombres entiers, elles sont donc de type <b> int </b>.\n",
    "<br>\n",
    "Les variables voie et ville sont des chaînes de caractères, elles sont de type <b> string </b>.\n"
   ]
  },
  {
   "cell_type": "markdown",
   "metadata": {},
   "source": [
    "<br><br>\n",
    "### Remarque 2 :\n",
    "\n",
    "Les noms de variables commencent toujours par une lettre. Exemple :"
   ]
  },
  {
   "cell_type": "code",
   "execution_count": null,
   "metadata": {},
   "outputs": [],
   "source": [
    "nom1=\"Toto\"\n",
    "nom2=\"Gaston\""
   ]
  },
  {
   "cell_type": "markdown",
   "metadata": {},
   "source": [
    "<br><br>\n",
    "\n",
    "### Remarque 3 : affectations multiples\n",
    "\n",
    "<b>Affectations successives :</b> on affecte la même valeur à plusieurs variables."
   ]
  },
  {
   "cell_type": "code",
   "execution_count": null,
   "metadata": {},
   "outputs": [],
   "source": [
    "a=b=c=10\n",
    "print(a)\n",
    "print(b)\n",
    "print(c)"
   ]
  },
  {
   "cell_type": "markdown",
   "metadata": {},
   "source": [
    "<br>\n",
    "<b> Affectations parallèles :</b> on affecte plusieurs valeurs à plusieurs variables."
   ]
  },
  {
   "cell_type": "code",
   "execution_count": null,
   "metadata": {},
   "outputs": [],
   "source": [
    "a,b,c=2,4,6\n",
    "print(a)\n",
    "print(b)\n",
    "print(c)"
   ]
  },
  {
   "cell_type": "markdown",
   "metadata": {},
   "source": [
    "<br><br>\n",
    "\n",
    "### Remarque 4 : \n",
    "\n",
    "La fonction native str() permet de transformer une variable en type string.\n",
    "\n",
    "<br>\n",
    "Taper un code permettant d'affecter la valeur 10 à la variable nommée &laquo;essai&raquo;.\n",
    "<br>\n",
    "Puis transformer cette variable en type string avant de l'afficher.\n",
    "<br>\n",
    "On pourra utiliser la fonction <b>type()</b> qui permet de retourner le type de données d'un objet quelconque."
   ]
  },
  {
   "cell_type": "code",
   "execution_count": null,
   "metadata": {},
   "outputs": [],
   "source": []
  }
 ],
 "metadata": {
  "kernelspec": {
   "display_name": "Python 3",
   "language": "python",
   "name": "python3"
  },
  "language_info": {
   "codemirror_mode": {
    "name": "ipython",
    "version": 3
   },
   "file_extension": ".py",
   "mimetype": "text/x-python",
   "name": "python",
   "nbconvert_exporter": "python",
   "pygments_lexer": "ipython3",
   "version": "3.7.6"
  }
 },
 "nbformat": 4,
 "nbformat_minor": 4
}
