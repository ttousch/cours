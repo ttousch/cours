{
 "cells": [
  {
   "cell_type": "markdown",
   "metadata": {},
   "source": [
    "<div align=\"center\" style=\"font-size:2em\"> <b>Structures de contrôle</b></div>"
   ]
  },
  {
   "cell_type": "markdown",
   "metadata": {},
   "source": [
    "# 1 Structure conditionnelle\n",
    "\n",
    "## 1.1 L'instruction if\n",
    "\n",
    "<p>\n",
    "    L'instruction <b>if</b> permet d'exécuter une série d'instruction si une condition est vraie. La syntaxe est la suivante :\n",
    "</p>\n",
    "\n",
    "<p>\n",
    "    <b> if </b> <i> condition : </i>\n",
    "    <br>\n",
    "    <div style=\"margin-top:-1em; text-indent:2em; font-style:italic\">   bloc d'instructions ; </div>\n",
    "</p>\n",
    "\n",
    "<p>La condition est un booléen.</p>\n",
    "\n",
    "<p> <b>Exemple 1 :</b> exécuter le code suivant : </p>"
   ]
  },
  {
   "cell_type": "code",
   "execution_count": null,
   "metadata": {},
   "outputs": [],
   "source": [
    "a=10\n",
    "if a>0 :\n",
    "    print('a est positif')"
   ]
  },
  {
   "cell_type": "markdown",
   "metadata": {},
   "source": [
    "<br>\n",
    "<p> <b>Exemple 2 :</b> exécuter le code suivant : </p>"
   ]
  },
  {
   "cell_type": "code",
   "execution_count": null,
   "metadata": {},
   "outputs": [],
   "source": [
    "a=-10\n",
    "if a>0 :\n",
    "    print('a est positif')"
   ]
  },
  {
   "cell_type": "markdown",
   "metadata": {},
   "source": [
    "<br>\n",
    "<p> <b>Exemple 3 :</b> exécuter le code suivant : </p>"
   ]
  },
  {
   "cell_type": "code",
   "execution_count": null,
   "metadata": {},
   "outputs": [],
   "source": [
    "a=0\n",
    "if a==0 :\n",
    "    print('a est nul')"
   ]
  },
  {
   "cell_type": "markdown",
   "metadata": {},
   "source": [
    "<br>\n",
    "<p> <b>Exemple 4 :</b> exécuter le code suivant plusieurs fois en changeant la valeur de a (positif, négatif ou nul): </p>"
   ]
  },
  {
   "cell_type": "code",
   "execution_count": null,
   "metadata": {},
   "outputs": [],
   "source": [
    "a=1\n",
    "if a>0 :\n",
    "    print('a est positif.')\n",
    "if a<0 :\n",
    "    print('a est négatif.')\n",
    "if a==0 :\n",
    "    print('a est nul.')"
   ]
  },
  {
   "cell_type": "markdown",
   "metadata": {},
   "source": [
    "<br>\n",
    "Afin que le programme nous demande d'entrer la valeur de a, on peut utiliser la fonction <i>input()</i>. Exécuter le code suivante :"
   ]
  },
  {
   "cell_type": "code",
   "execution_count": null,
   "metadata": {},
   "outputs": [],
   "source": [
    "b = input('Enter un nombre :')\n",
    "a = float(b)\n",
    "if a>0 :\n",
    "    print('le nombre est positif.')\n",
    "if a<0 :\n",
    "    print('le nombre est négatif.')\n",
    "if a==0 :\n",
    "    print('le nombre est nul.')"
   ]
  },
  {
   "cell_type": "markdown",
   "metadata": {},
   "source": [
    "<br>\n",
    "<p> <b>Remarque 1 :</b> la fonction <i>input()</i> renvoie une  chaîne de caractères, c'est la raison pour laquelle on doit ici la transformer en nombre avec la fonction <i>float()</i></p>\n"
   ]
  },
  {
   "cell_type": "markdown",
   "metadata": {},
   "source": [
    "<br>\n",
    "<p>\n",
    "    <b>Remarque 2 :</b> il faut respecter l'indentation. Un bloc d'instrcutions est associé à une même indentation.\n",
    "</p>\n",
    "\n",
    "<p> <b> Exemple : </b> exécuter le code suivant :\n"
   ]
  },
  {
   "cell_type": "code",
   "execution_count": null,
   "metadata": {},
   "outputs": [],
   "source": [
    "print(\"Avec la même indentation :\")\n",
    "a = 10\n",
    "if a<0 :\n",
    "    print('le nombre est positif') \n",
    "    print('ce nombre est sympa !') \n",
    "print(\"Fin de l'exemple avec la même indentation.\\n\")\n",
    "\n",
    "print(\"Avec une indentation différente :\")\n",
    "a = 10\n",
    "if a<0 :\n",
    "    print('le nombre est positif') \n",
    "print('ce nombre est sympa !') \n",
    "print(\"Fin de l'exemple avec une indentation différente.\\n\")"
   ]
  },
  {
   "cell_type": "markdown",
   "metadata": {},
   "source": [
    "<br><br>\n",
    "## 1.2 L'instruction if... elif... else\n",
    "\n",
    "<p>\n",
    "    L'instruction <b>else</b> (sinon) permet d'exécuter une série d'instructions alternatives si la condition <b>if</b> n'est pas réalisée. L'instruction <b>elif</b> (sinon) permet de définir des conditions alternatives.\n",
    "</p>\n",
    "\n",
    "<p>\n",
    "    <b> if </b> <i> condition 1 : </i>\n",
    "    <br>\n",
    "    <div style=\"margin-top:-1em; text-indent:2em; font-style:italic\">   bloc d'instructions ; </div>\n",
    "    <br>\n",
    "    <b> elif </b> <i> condition 2 : </i>\n",
    "    <br>\n",
    "    <div style=\"text-indent:2em; font-style:italic\">   bloc d'instructions ; </div>\n",
    "    <br>\n",
    "    <b> elif </b> <i> condition 3 : </i>\n",
    "    <div style=\"text-indent:2em; font-style:italic\">   bloc d'instructions ; </div>\n",
    "    ...\n",
    "    <br>\n",
    "    <b> else :</b>\n",
    "    <div style=\"text-indent:2em; font-style:italic\">   bloc d'instructions ; </div>\n",
    "</p>\n",
    "\n",
    "<p> <b>Exemple 1 :</b> exécuter le code suivant plusieurs fois avec différents nombres (positif, négatif, nul) : </p>"
   ]
  },
  {
   "cell_type": "code",
   "execution_count": null,
   "metadata": {},
   "outputs": [],
   "source": [
    "a=float(input('Donner un nombre :'))\n",
    "if a>0 :\n",
    "    print('Le nombre est positif.')\n",
    "elif a<0 :\n",
    "    print('Le nombre est négatif.')\n",
    "else :\n",
    "    print('Le nombre est nul.')"
   ]
  },
  {
   "cell_type": "markdown",
   "metadata": {},
   "source": [
    "<br>\n",
    "<p><b>Exercice 1 : </b> taper ci-dessous un code qui vous demande d'entrer une année et qui vérifie si cette année est bissextile. </p>\n",
    "\n",
    "<p>Rappel : les années bissextiles sont celles qui sont divisibles par 4, sauf lorsqu’elles débutent un siècle non multiple de 400."
   ]
  },
  {
   "cell_type": "code",
   "execution_count": null,
   "metadata": {},
   "outputs": [],
   "source": []
  },
  {
   "cell_type": "markdown",
   "metadata": {},
   "source": [
    "<br>\n",
    "<p>\n",
    "    <b>Exercice 2 : </b> taper ci-dessous un code qui demande à l'utilisateur d'entrer sa taille puis sa masse. Ensuite ce code calcule son IMC (indice de masse corporelle) et lui dit s'il est :\n",
    "    <ul>\n",
    "        <li> en insuffisance pondérale (IMC < 18,5) ;</li>\n",
    "        <li> de corpulence normale (18,5 < IMC < 25) ;</li>\n",
    "        <li> en surpoids (25 < IMC < 30) ;</li>\n",
    "        <li> en obésité modérée (30 < IMC <35) ;</li>\n",
    "        <li> en obésité sévère (35 < IMC < 40) ;</li>\n",
    "        <li> en obésité morbide (IMC > 40).</li>\n",
    "    </ul>\n",
    "</p>\n",
    "\n",
    "<p>Rappel : $IMC = \\dfrac{masse \\; (kg)}{taille^2 \\; (m)}$"
   ]
  },
  {
   "cell_type": "code",
   "execution_count": null,
   "metadata": {},
   "outputs": [],
   "source": []
  }
 ],
 "metadata": {
  "kernelspec": {
   "display_name": "Python 3",
   "language": "python",
   "name": "python3"
  },
  "language_info": {
   "codemirror_mode": {
    "name": "ipython",
    "version": 3
   },
   "file_extension": ".py",
   "mimetype": "text/x-python",
   "name": "python",
   "nbconvert_exporter": "python",
   "pygments_lexer": "ipython3",
   "version": "3.7.6"
  }
 },
 "nbformat": 4,
 "nbformat_minor": 4
}
